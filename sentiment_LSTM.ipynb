{
 "cells": [
  {
   "cell_type": "code",
   "execution_count": 1,
   "metadata": {},
   "outputs": [],
   "source": [
    "import pandas as pd\n",
    "import numpy as np\n",
    "import os\n",
    "from string import punctuation\n",
    "from collections import Counter\n",
    "import torch\n",
    "from torch.utils.data import DataLoader, TensorDataset\n",
    "import torch.nn as nn\n",
    "import random\n",
    "import matplotlib.pyplot as plt\n",
    "import time\n",
    "from IPython.core.display import clear_output\n",
    "from torch import autograd\n",
    "%matplotlib inline"
   ]
  },
  {
   "cell_type": "code",
   "execution_count": 2,
   "metadata": {},
   "outputs": [],
   "source": [
    "df = pd.read_csv(\"./review_data.csv\", encoding = \"ISO-8859-1\")"
   ]
  },
  {
   "cell_type": "code",
   "execution_count": 3,
   "metadata": {},
   "outputs": [],
   "source": [
    "supa = df[df.label != 'unsup']"
   ]
  },
  {
   "cell_type": "code",
   "execution_count": 4,
   "metadata": {},
   "outputs": [
    {
     "name": "stdout",
     "output_type": "stream",
     "text": [
      "50000\n",
      "neg\n"
     ]
    }
   ],
   "source": [
    "labels = []\n",
    "for label in supa.label:\n",
    "    labels.append(label)\n",
    "print(len(labels))\n",
    "print(labels[0])"
   ]
  },
  {
   "cell_type": "markdown",
   "metadata": {},
   "source": [
    "Write Labels into a text file."
   ]
  },
  {
   "cell_type": "code",
   "execution_count": 5,
   "metadata": {},
   "outputs": [],
   "source": [
    "data_labels = open(\"./review_data/labels.txt\", \"w\")\n",
    "for label in labels:\n",
    "    data_labels.write(label)\n",
    "    data_labels.write(\"\\n\")\n",
    "data_labels.close()"
   ]
  },
  {
   "cell_type": "code",
   "execution_count": 6,
   "metadata": {},
   "outputs": [
    {
     "name": "stdout",
     "output_type": "stream",
     "text": [
      "50000\n",
      "Once again Mr. Costner has dragged out a movie for far longer than necessary. Aside from the terrific sea rescue sequences, of which there are very few I just did not care about any of the characters. Most of us have ghosts in the closet, and Costner's character are realized early on, and then forgotten until much later, by which time I did not care. The character we should really care about is a very cocky, overconfident Ashton Kutcher. The problem is he comes off as kid who thinks he's better than anyone else around him and shows no signs of a cluttered closet. His only obstacle appears to be winning over Costner. Finally when we are well past the half way point of this stinker, Costner tells us all about Kutcher's ghosts. We are told why Kutcher is driven to be the best with no prior inkling or foreshadowing. No magic here, it was all I could do to keep from turning it off an hour in.\n"
     ]
    }
   ],
   "source": [
    "reviews = []\n",
    "for review in supa.review:\n",
    "    reviews.append(review)\n",
    "print(len(reviews))\n",
    "print(reviews[0])"
   ]
  },
  {
   "cell_type": "markdown",
   "metadata": {},
   "source": [
    "Write reviews into text file"
   ]
  },
  {
   "cell_type": "code",
   "execution_count": 7,
   "metadata": {},
   "outputs": [],
   "source": [
    "data_reviews = open(\"./review_data/reviews.txt\", \"w\")\n",
    "for review in reviews:\n",
    "    data_reviews.write(review)\n",
    "    data_reviews.write(\"\\n\")\n",
    "data_reviews.close()"
   ]
  },
  {
   "cell_type": "markdown",
   "metadata": {},
   "source": [
    "Read Data From Text Files"
   ]
  },
  {
   "cell_type": "code",
   "execution_count": 8,
   "metadata": {},
   "outputs": [
    {
     "name": "stdout",
     "output_type": "stream",
     "text": [
      "Once again Mr. Costner has dragged out a movie for\n",
      "\n",
      "neg\n",
      "neg\n",
      "neg\n",
      "neg\n",
      "neg\n",
      "neg\n",
      "ne\n"
     ]
    }
   ],
   "source": [
    "with open(\"review_data/reviews.txt\", \"r\") as f:\n",
    "    reviews = f.read()\n",
    "with open(\"review_data/labels.txt\", \"r\") as f:\n",
    "    labels = f.read()\n",
    "\n",
    "print(reviews[:50])\n",
    "print()\n",
    "print(labels[:26])"
   ]
  },
  {
   "cell_type": "markdown",
   "metadata": {},
   "source": [
    "Data Processesing - convert to lower case"
   ]
  },
  {
   "cell_type": "code",
   "execution_count": 9,
   "metadata": {},
   "outputs": [],
   "source": [
    "reviews = reviews.lower()"
   ]
  },
  {
   "cell_type": "markdown",
   "metadata": {},
   "source": [
    "Data Processing — remove punctuation"
   ]
  },
  {
   "cell_type": "code",
   "execution_count": 10,
   "metadata": {},
   "outputs": [
    {
     "name": "stdout",
     "output_type": "stream",
     "text": [
      "!\"#$%&'()*+,-./:;<=>?@[\\]^_`{|}~\n"
     ]
    }
   ],
   "source": [
    "print(punctuation)"
   ]
  },
  {
   "cell_type": "code",
   "execution_count": 11,
   "metadata": {},
   "outputs": [],
   "source": [
    "all_text = ''.join([c for c in reviews if c not in punctuation])"
   ]
  },
  {
   "cell_type": "markdown",
   "metadata": {},
   "source": [
    "Data Processing — create list of reviews"
   ]
  },
  {
   "cell_type": "code",
   "execution_count": 12,
   "metadata": {},
   "outputs": [],
   "source": [
    "vocab = set(all_text.split())\n",
    "word2id = {word: id+1 for id, word in enumerate(vocab)}"
   ]
  },
  {
   "cell_type": "code",
   "execution_count": 13,
   "metadata": {},
   "outputs": [],
   "source": [
    "# INITIALIZE EMBEDDINGS TO RANDOM VALUES\n",
    "embed_size = 300\n",
    "vocab_size = len(vocab)+1\n",
    "sd = 1/np.sqrt(embed_size)  # Standard deviation to use\n",
    "weights = np.random.normal(0, scale=sd, size=[vocab_size, embed_size])\n",
    "weights = weights.astype(np.float32)"
   ]
  },
  {
   "cell_type": "code",
   "execution_count": 14,
   "metadata": {},
   "outputs": [],
   "source": [
    "file = \"./review_data/glove.6B.300d.txt\"\n",
    "\n",
    "# EXTRACT DESIRED GLOVE WORD VECTORS FROM TEXT FILE\n",
    "with open(file, encoding=\"utf-8\", mode=\"r\") as textFile:\n",
    "    for line in textFile:\n",
    "        # Separate the values from the word\n",
    "        line = line.split()\n",
    "        word = line[0]\n",
    "\n",
    "        # If word is in our vocab, then update the corresponding weights\n",
    "        id = word2id.get(word, None)\n",
    "        if id is not None:\n",
    "            weights[id] = np.array(line[1:], dtype=np.float32)"
   ]
  },
  {
   "cell_type": "code",
   "execution_count": 15,
   "metadata": {},
   "outputs": [
    {
     "name": "stdout",
     "output_type": "stream",
     "text": [
      "Number of reviews : 50001\n",
      "Number of labels :50001\n"
     ]
    }
   ],
   "source": [
    "reviews_split = all_text.split('\\n')\n",
    "print ('Number of reviews :', len(reviews_split))\n",
    "labels_split = labels.split(\"\\n\")\n",
    "print('Number of labels :{}'.format(len(labels_split)))"
   ]
  },
  {
   "cell_type": "markdown",
   "metadata": {},
   "source": [
    "Tokenize — Create Vocab to Int mapping dictionary"
   ]
  },
  {
   "cell_type": "code",
   "execution_count": 16,
   "metadata": {},
   "outputs": [],
   "source": [
    "# all_text2 = ' '.join(reviews_split)\n",
    "# # create a list of words\n",
    "# words = all_text2.split()\n",
    "# # Count all the words using Counter Method\n",
    "# count_words = Counter(words)\n",
    "\n",
    "# total_words = len(words)\n",
    "# sorted_words = count_words.most_common(total_words)"
   ]
  },
  {
   "cell_type": "code",
   "execution_count": 17,
   "metadata": {},
   "outputs": [],
   "source": [
    "# print(\"Total Words: \",total_words)\n",
    "# print(\"Word Count: \", len(count_words))"
   ]
  },
  {
   "cell_type": "code",
   "execution_count": 18,
   "metadata": {},
   "outputs": [],
   "source": [
    "# print(count_words)"
   ]
  },
  {
   "cell_type": "code",
   "execution_count": 19,
   "metadata": {},
   "outputs": [],
   "source": [
    "# vocab_to_int = {w:i for i, (w,c) in enumerate(sorted_words)}"
   ]
  },
  {
   "cell_type": "markdown",
   "metadata": {},
   "source": [
    "Leave Room for Padding for shorter reviews"
   ]
  },
  {
   "cell_type": "code",
   "execution_count": 20,
   "metadata": {},
   "outputs": [],
   "source": [
    "# vocab_to_int = {w:i+1 for i, (w,c) in enumerate(sorted_words)}"
   ]
  },
  {
   "cell_type": "code",
   "execution_count": 21,
   "metadata": {},
   "outputs": [],
   "source": [
    "# print(vocab_to_int)"
   ]
  },
  {
   "cell_type": "markdown",
   "metadata": {},
   "source": [
    "Tokenize — Encode the words (replace words in reviews with integers)"
   ]
  },
  {
   "cell_type": "code",
   "execution_count": 22,
   "metadata": {},
   "outputs": [
    {
     "name": "stdout",
     "output_type": "stream",
     "text": [
      "[[37571.0, 133400.0, 41649.0, 73612.0, 78145.0, 150188.0, 122393.0, 90932.0, 151080.0, 17126.0, 13889.0, 129074.0, 113916.0, 98732.0, 103964.0, 147436.0, 40767.0, 4906.0, 126956.0, 116188.0, 33888.0, 58490.0, 32484.0, 174251.0, 103494.0, 98529.0, 51692.0, 104307.0, 93126.0, 87564.0, 74794.0, 80845.0, 38758.0, 149579.0, 58490.0, 40767.0, 4802.0, 173102.0, 58490.0, 170566.0, 119272.0, 74931.0, 134325.0, 40767.0, 78194.0, 74102.0, 73737.0, 80931.0, 103494.0, 14922.0, 154418.0, 51328.0, 74102.0, 120986.0, 76814.0, 72775.0, 128784.0, 27381.0, 102715.0, 32484.0, 83655.0, 104307.0, 87564.0, 74794.0, 80845.0, 40767.0, 80931.0, 76878.0, 72385.0, 128340.0, 80845.0, 38758.0, 160586.0, 90932.0, 98529.0, 105170.0, 118544.0, 155844.0, 117915.0, 40767.0, 122481.0, 160586.0, 73898.0, 90138.0, 96414.0, 72684.0, 88571.0, 67694.0, 138257.0, 152513.0, 130632.0, 113916.0, 36477.0, 165348.0, 134929.0, 75193.0, 74102.0, 147755.0, 88594.0, 35234.0, 58490.0, 90932.0, 103139.0, 78194.0, 39505.0, 138088.0, 1863.0, 50167.0, 63587.0, 112467.0, 151475.0, 48900.0, 73612.0, 113833.0, 81561.0, 76878.0, 103494.0, 146105.0, 75703.0, 40767.0, 50264.0, 174890.0, 172642.0, 58490.0, 59575.0, 54018.0, 73612.0, 96687.0, 170566.0, 94055.0, 38758.0, 119299.0, 74931.0, 76878.0, 103494.0, 144065.0, 144412.0, 117915.0, 160586.0, 37791.0, 63587.0, 112467.0, 40767.0, 55857.0, 105737.0, 88594.0, 131978.0, 161812.0, 182280.0, 8358.0, 88594.0, 26664.0, 5596.0, 145194.0, 70422.0, 94055.0, 104307.0, 46436.0, 159894.0, 63587.0, 114464.0, 147436.0, 35479.0, 145194.0, 96414.0, 139466.0, 136129.0, 134325.0], [59575.0, 160586.0, 139466.0, 91949.0, 58490.0, 144412.0, 40767.0, 164584.0, 58490.0, 160709.0, 91278.0, 103494.0, 40767.0, 20748.0, 103836.0, 74102.0, 22588.0, 57054.0, 128340.0, 98855.0, 29957.0, 35449.0, 5596.0, 90932.0, 7303.0, 118935.0, 58490.0, 40767.0, 120986.0, 19716.0, 76996.0, 58490.0, 68743.0, 74102.0, 159931.0, 138933.0, 99763.0, 89316.0, 2681.0, 170051.0, 51251.0, 48900.0, 17403.0, 35924.0, 103494.0, 109200.0, 58490.0, 61433.0, 74102.0, 61433.0, 146105.0, 156194.0, 86039.0, 105737.0, 59575.0, 135115.0, 139741.0, 172755.0, 96334.0, 125940.0, 165783.0, 97449.0, 182280.0, 138533.0, 96334.0, 87621.0, 58960.0, 17126.0, 68743.0, 182280.0, 166039.0, 23811.0, 40767.0, 132379.0, 95303.0, 27211.0, 182280.0, 137616.0, 17126.0, 159931.0, 138933.0, 74102.0, 172755.0, 40767.0, 53755.0, 59060.0, 107749.0, 42335.0, 89684.0, 99681.0, 140407.0, 87687.0, 59575.0, 132443.0, 158002.0, 28547.0, 40767.0, 124815.0, 74102.0, 121526.0, 155514.0, 93490.0, 150615.0, 40767.0, 70248.0, 40878.0, 125627.0, 70422.0, 23344.0, 134325.0, 59575.0, 132443.0, 74102.0, 144412.0, 40767.0, 70248.0, 173470.0, 73898.0, 2626.0, 121869.0, 40767.0, 120818.0, 20748.0, 80931.0, 147436.0, 78978.0, 47755.0, 174419.0, 132443.0, 44000.0, 38200.0, 105737.0, 40878.0, 125627.0, 78145.0, 75193.0, 104633.0, 40767.0, 120818.0, 20748.0, 46675.0, 80931.0, 74102.0, 28547.0, 113406.0, 134325.0, 78978.0, 39505.0, 80931.0, 34167.0, 32484.0, 37201.0, 145194.0, 42430.0, 1100.0, 10455.0, 48245.0, 59575.0, 160586.0, 23562.0, 160709.0, 140643.0, 174251.0, 103494.0, 19416.0, 130632.0, 91278.0, 63587.0, 172755.0, 74102.0, 89794.0, 113324.0, 128340.0, 21518.0, 63587.0, 172755.0, 59575.0, 135115.0, 138533.0, 5245.0, 176386.0, 32484.0, 160586.0, 167069.0, 90932.0, 45428.0, 57759.0, 5472.0, 78145.0, 130632.0, 61433.0, 74102.0, 90932.0, 130632.0, 27646.0, 40767.0, 138088.0, 164090.0, 17403.0, 37201.0, 59575.0, 28547.0, 94055.0, 29957.0, 35449.0, 70422.0, 90932.0, 55947.0, 104337.0, 51328.0, 40767.0, 48027.0, 40767.0, 67448.0, 70422.0, 133479.0, 90183.0, 32484.0, 90138.0, 91124.0, 63587.0, 24425.0, 112503.0, 17126.0, 40767.0, 1606.0, 132443.0, 94982.0, 5472.0, 74794.0, 12432.0, 59018.0], [114198.0, 58490.0, 94055.0, 104307.0, 20475.0, 93339.0, 125608.0, 70885.0, 67694.0, 73823.0, 34572.0, 89794.0, 35924.0, 75722.0, 90932.0, 110844.0, 181285.0, 135488.0, 128626.0, 20900.0, 94055.0, 35924.0, 159894.0, 160586.0, 121548.0, 74102.0, 80601.0, 89316.0, 103997.0, 74102.0, 61433.0, 14171.0, 115461.0, 64437.0, 58490.0, 132912.0, 10455.0, 40767.0, 151080.0, 174755.0, 156962.0, 174350.0, 113916.0, 179191.0, 95667.0, 63587.0, 24854.0, 150615.0, 160586.0, 13261.0, 51328.0, 14387.0, 12531.0, 45495.0, 28547.0, 40767.0, 74255.0, 174251.0, 160586.0, 74794.0, 90932.0, 149227.0, 4835.0, 80931.0, 134325.0, 59575.0, 151080.0, 13715.0, 17126.0, 40767.0, 168379.0, 63529.0, 67694.0, 160586.0, 22438.0, 40767.0, 138088.0, 135115.0, 105737.0, 50264.0, 90932.0, 160666.0, 10455.0, 40878.0, 125627.0, 74102.0, 149637.0, 62039.0, 103494.0, 116826.0, 156914.0, 145024.0, 74102.0, 126337.0, 80931.0, 160586.0, 93126.0, 72684.0, 128784.0, 90932.0, 166034.0, 72684.0, 40767.0, 159565.0, 104307.0, 38770.0, 14171.0, 75193.0, 60827.0, 147436.0, 40767.0, 154248.0, 10455.0, 40767.0, 151080.0, 160586.0, 38513.0, 105737.0, 156010.0, 28031.0, 74102.0, 102776.0, 18830.0, 19806.0, 180211.0, 119959.0, 29543.0, 14683.0, 105737.0, 12168.0, 55594.0, 151603.0, 174251.0, 160586.0, 5004.0, 128784.0, 88594.0, 130790.0, 74102.0, 145194.0, 160586.0, 90932.0, 11616.0, 122481.0, 81561.0, 113324.0, 25197.0, 17126.0, 78195.0, 168595.0, 57932.0, 13715.0, 147436.0, 125627.0, 74102.0, 40767.0, 168379.0, 63529.0, 74102.0, 168595.0, 29846.0, 150615.0, 35924.0, 141556.0, 10455.0, 40767.0, 138088.0, 144581.0, 101378.0, 180211.0, 17403.0, 94764.0, 34572.0, 160586.0, 40767.0, 168379.0, 63529.0, 74102.0, 40767.0, 99021.0, 5472.0, 11055.0, 54856.0, 102715.0, 87780.0, 74794.0, 116219.0, 36928.0, 142672.0, 96552.0, 39961.0, 10455.0, 32013.0, 90139.0, 147436.0, 59575.0, 56749.0, 74102.0, 138533.0, 20448.0, 34960.0, 163125.0, 74102.0, 3754.0, 67721.0, 28547.0, 73751.0, 35924.0, 119272.0, 4802.0, 113324.0, 80845.0, 38758.0, 90932.0, 46067.0, 58490.0, 68464.0, 74102.0, 98855.0, 5472.0, 53755.0, 54856.0, 134325.0, 40767.0, 104655.0]]\n"
     ]
    }
   ],
   "source": [
    "reviews_int = []\n",
    "for review in reviews_split:\n",
    "    r = [float(word2id[w]) for w in review.split()]\n",
    "    reviews_int.append(r)\n",
    "print (reviews_int[0:3])"
   ]
  },
  {
   "cell_type": "markdown",
   "metadata": {},
   "source": [
    " Tokenize — Encode the labels"
   ]
  },
  {
   "cell_type": "code",
   "execution_count": 23,
   "metadata": {},
   "outputs": [],
   "source": [
    "encoded_labels = [1.0 if label =='pos' else 0.0 for label in labels_split]\n",
    "encoded_labels = np.array(encoded_labels)"
   ]
  },
  {
   "cell_type": "markdown",
   "metadata": {},
   "source": [
    "Analyze Reviews Length"
   ]
  },
  {
   "cell_type": "markdown",
   "metadata": {},
   "source": [
    "X-axis : Review Length"
   ]
  },
  {
   "cell_type": "markdown",
   "metadata": {},
   "source": [
    "Y-axis: NUmber of Reviews"
   ]
  },
  {
   "cell_type": "code",
   "execution_count": 32,
   "metadata": {},
   "outputs": [
    {
     "data": {
      "text/plain": [
       "count    50001.000000\n",
       "mean       230.249895\n",
       "std        170.661355\n",
       "min          0.000000\n",
       "25%        126.000000\n",
       "50%        172.000000\n",
       "75%        280.000000\n",
       "max       2469.000000\n",
       "dtype: float64"
      ]
     },
     "execution_count": 32,
     "metadata": {},
     "output_type": "execute_result"
    },
    {
     "data": {
      "image/png": "[encoded data removed]",
      "text/plain": [
       "<Figure size 432x288 with 1 Axes>"
      ]
     },
     "metadata": {
      "needs_background": "light"
     },
     "output_type": "display_data"
    }
   ],
   "source": [
    "reviews_len = [len(x) for x in reviews_int]\n",
    "pd.Series(reviews_len).hist()\n",
    "plt.title('Review Histogram')\n",
    "plt.ylabel('# of Reviews')\n",
    "plt.xlabel('Word Count')\n",
    "pd.Series(reviews_len).describe()"
   ]
  },
  {
   "cell_type": "markdown",
   "metadata": {},
   "source": [
    "Removing Outliers — Getting rid of extremely long or short reviews"
   ]
  },
  {
   "cell_type": "markdown",
   "metadata": {},
   "source": [
    "Observations : a) Mean review length = 240 b) Some reviews are of 0 length. Keeping this review won’t make any sense for our analysis c) Most of the reviews less than 500 words or more d) There are quite a few reviews that are extremely long, we can manually investigate them to check whether we need to include or exclude them from our analysis"
   ]
  },
  {
   "cell_type": "code",
   "execution_count": 33,
   "metadata": {},
   "outputs": [
    {
     "ename": "NameError",
     "evalue": "name 'encoded_labels' is not defined",
     "output_type": "error",
     "traceback": [
      "\u001b[0;31m---------------------------------------------------------------------------\u001b[0m",
      "\u001b[0;31mNameError\u001b[0m                                 Traceback (most recent call last)",
      "\u001b[0;32m<ipython-input-33-de49fad46e3d>\u001b[0m in \u001b[0;36m<module>\u001b[0;34m\u001b[0m\n\u001b[1;32m      1\u001b[0m \u001b[0mreviews_int\u001b[0m \u001b[0;34m=\u001b[0m \u001b[0;34m[\u001b[0m \u001b[0mreviews_int\u001b[0m\u001b[0;34m[\u001b[0m\u001b[0mi\u001b[0m\u001b[0;34m]\u001b[0m \u001b[0;32mfor\u001b[0m \u001b[0mi\u001b[0m\u001b[0;34m,\u001b[0m \u001b[0ml\u001b[0m \u001b[0;32min\u001b[0m \u001b[0menumerate\u001b[0m\u001b[0;34m(\u001b[0m\u001b[0mreviews_len\u001b[0m\u001b[0;34m)\u001b[0m \u001b[0;32mif\u001b[0m \u001b[0ml\u001b[0m\u001b[0;34m>\u001b[0m\u001b[0;36m0\u001b[0m \u001b[0;34m]\u001b[0m\u001b[0;34m\u001b[0m\u001b[0;34m\u001b[0m\u001b[0m\n\u001b[0;32m----> 2\u001b[0;31m \u001b[0mencoded_labels\u001b[0m \u001b[0;34m=\u001b[0m \u001b[0;34m[\u001b[0m \u001b[0mencoded_labels\u001b[0m\u001b[0;34m[\u001b[0m\u001b[0mi\u001b[0m\u001b[0;34m]\u001b[0m \u001b[0;32mfor\u001b[0m \u001b[0mi\u001b[0m\u001b[0;34m,\u001b[0m \u001b[0ml\u001b[0m \u001b[0;32min\u001b[0m \u001b[0menumerate\u001b[0m\u001b[0;34m(\u001b[0m\u001b[0mreviews_len\u001b[0m\u001b[0;34m)\u001b[0m \u001b[0;32mif\u001b[0m \u001b[0ml\u001b[0m\u001b[0;34m>\u001b[0m \u001b[0;36m0\u001b[0m \u001b[0;34m]\u001b[0m\u001b[0;34m\u001b[0m\u001b[0;34m\u001b[0m\u001b[0m\n\u001b[0m",
      "\u001b[0;32m<ipython-input-33-de49fad46e3d>\u001b[0m in \u001b[0;36m<listcomp>\u001b[0;34m(.0)\u001b[0m\n\u001b[1;32m      1\u001b[0m \u001b[0mreviews_int\u001b[0m \u001b[0;34m=\u001b[0m \u001b[0;34m[\u001b[0m \u001b[0mreviews_int\u001b[0m\u001b[0;34m[\u001b[0m\u001b[0mi\u001b[0m\u001b[0;34m]\u001b[0m \u001b[0;32mfor\u001b[0m \u001b[0mi\u001b[0m\u001b[0;34m,\u001b[0m \u001b[0ml\u001b[0m \u001b[0;32min\u001b[0m \u001b[0menumerate\u001b[0m\u001b[0;34m(\u001b[0m\u001b[0mreviews_len\u001b[0m\u001b[0;34m)\u001b[0m \u001b[0;32mif\u001b[0m \u001b[0ml\u001b[0m\u001b[0;34m>\u001b[0m\u001b[0;36m0\u001b[0m \u001b[0;34m]\u001b[0m\u001b[0;34m\u001b[0m\u001b[0;34m\u001b[0m\u001b[0m\n\u001b[0;32m----> 2\u001b[0;31m \u001b[0mencoded_labels\u001b[0m \u001b[0;34m=\u001b[0m \u001b[0;34m[\u001b[0m \u001b[0mencoded_labels\u001b[0m\u001b[0;34m[\u001b[0m\u001b[0mi\u001b[0m\u001b[0;34m]\u001b[0m \u001b[0;32mfor\u001b[0m \u001b[0mi\u001b[0m\u001b[0;34m,\u001b[0m \u001b[0ml\u001b[0m \u001b[0;32min\u001b[0m \u001b[0menumerate\u001b[0m\u001b[0;34m(\u001b[0m\u001b[0mreviews_len\u001b[0m\u001b[0;34m)\u001b[0m \u001b[0;32mif\u001b[0m \u001b[0ml\u001b[0m\u001b[0;34m>\u001b[0m \u001b[0;36m0\u001b[0m \u001b[0;34m]\u001b[0m\u001b[0;34m\u001b[0m\u001b[0;34m\u001b[0m\u001b[0m\n\u001b[0m",
      "\u001b[0;31mNameError\u001b[0m: name 'encoded_labels' is not defined"
     ]
    }
   ],
   "source": [
    "reviews_int = [ reviews_int[i] for i, l in enumerate(reviews_len) if l>0 ]\n",
    "encoded_labels = [ encoded_labels[i] for i, l in enumerate(reviews_len) if l> 0 ]"
   ]
  },
  {
   "cell_type": "markdown",
   "metadata": {},
   "source": [
    "Padding / Truncating the remaining data"
   ]
  },
  {
   "cell_type": "markdown",
   "metadata": {},
   "source": [
    "To deal with both short and long reviews, we will pad or truncate all our reviews to a specific length - Sequence Length - tje same as number of time steps for LSTM layer.\n",
    "\n",
    "For reviews shorter than seq_length, we will pad with 0s. For reviews longer than seq_length we will truncate them to the first seq_length words."
   ]
  },
  {
   "cell_type": "code",
   "execution_count": 34,
   "metadata": {},
   "outputs": [],
   "source": [
    "def pad_features(reviews_int, seq_length):\n",
    "    ''' \n",
    "        Return features of review_ints, where each review is padded with 0's or truncated to the input seq_length.\n",
    "    '''\n",
    "    features = np.zeros((len(reviews_int), seq_length), dtype = float)\n",
    "    \n",
    "    for i, review in enumerate(reviews_int):\n",
    "        review_len = len(review)\n",
    "        \n",
    "        if review_len <= seq_length:\n",
    "            zeroes = list(np.zeros(seq_length-review_len))\n",
    "            new = zeroes+review\n",
    "        elif review_len > seq_length:\n",
    "            new = review[0:seq_length]\n",
    "        \n",
    "        features[i,:] = np.array(new)\n",
    "    \n",
    "    return features\n",
    "\n",
    "features = pad_features(reviews_int, 200)"
   ]
  },
  {
   "cell_type": "code",
   "execution_count": 27,
   "metadata": {},
   "outputs": [
    {
     "name": "stdout",
     "output_type": "stream",
     "text": [
      "Features Length:  50000\n",
      "Labels Length:  50000\n",
      "Positive Features:  25000\n",
      "Negative Features:  25000\n",
      "Positive Labels:  25000\n",
      "Negative Labels:  25000\n"
     ]
    }
   ],
   "source": [
    "print(\"Features Length: \", len(features))\n",
    "print(\"Labels Length: \", len(encoded_labels))\n",
    "features1 = features[0:12500]\n",
    "features2 = features[12500:25000]\n",
    "features3 = features[25000:37500]\n",
    "features4 = features[37500:50000]\n",
    "features_pos = np.concatenate((features2, features4))\n",
    "features_neg = np.concatenate((features1, features3))\n",
    "print(\"Positive Features: \", len(features_pos))\n",
    "print(\"Negative Features: \", len(features_neg))\n",
    "labels1 = encoded_labels[0:12500]\n",
    "labels2 = encoded_labels[12500:25000]\n",
    "labels3 = encoded_labels[25000:37500]\n",
    "labels4 = encoded_labels[37500:50000]\n",
    "labels_pos = labels2 + labels4\n",
    "labels_neg = labels1 + labels3\n",
    "print(\"Positive Labels: \", len(labels_pos))\n",
    "print(\"Negative Labels: \", len(labels_neg))\n"
   ]
  },
  {
   "cell_type": "code",
   "execution_count": 28,
   "metadata": {},
   "outputs": [
    {
     "name": "stdout",
     "output_type": "stream",
     "text": [
      "[[     0.      0.      0. ... 119710.  10669. 156864.]\n",
      " [104421. 166093. 119710. ...  65503. 103415.  85173.]\n",
      " [ 52383.   8809. 180047. ... 138115.  52486.  81858.]\n",
      " ...\n",
      " [151108.  86007.  42773. ...  54041.  43830. 145528.]\n",
      " [     0.      0.      0. ... 163579.  71445. 134959.]\n",
      " [     0.      0.      0. ... 121499.  66683. 149972.]]\n"
     ]
    }
   ],
   "source": [
    "print(features)"
   ]
  },
  {
   "cell_type": "code",
   "execution_count": 29,
   "metadata": {},
   "outputs": [
    {
     "name": "stdout",
     "output_type": "stream",
     "text": [
      "[[     0.      0.      0. ... 119710.  10669. 156864.]\n",
      " [104421. 166093. 119710. ...  65503. 103415.  85173.]\n",
      " [ 52383.   8809. 180047. ... 138115.  52486.  81858.]\n",
      " ...\n",
      " [     0.      0.      0. ...  33216. 151264. 143421.]\n",
      " [     0.      0.      0. ...  76540.  38242.  22088.]\n",
      " [     0.      0.      0. ...  70296. 101113. 149972.]]\n"
     ]
    }
   ],
   "source": [
    "print(features[:10,:])"
   ]
  },
  {
   "cell_type": "markdown",
   "metadata": {},
   "source": [
    "Training, Validation, Test Dataset Split"
   ]
  },
  {
   "cell_type": "markdown",
   "metadata": {},
   "source": [
    "train= 80% | valid = 10% | test = 10%"
   ]
  },
  {
   "cell_type": "code",
   "execution_count": 30,
   "metadata": {},
   "outputs": [
    {
     "name": "stdout",
     "output_type": "stream",
     "text": [
      "20000\n"
     ]
    }
   ],
   "source": [
    "# split_frac = 0.5\n",
    "# len_feat = len(features)\n",
    "# train_x = features[0:int(split_frac*len_feat)]\n",
    "# train_x = np.asarray(train_x, dtype=np.float32)\n",
    "# train_y = encoded_labels[0:int(split_frac*len_feat)]\n",
    "# train_y = np.asarray(train_y, dtype=np.float32)\n",
    "# remaining_x = features[int(split_frac*len_feat):]\n",
    "# remaining_x = np.asarray(remaining_x, dtype=np.float32)\n",
    "# remaining_y = encoded_labels[int(split_frac*len_feat):]\n",
    "# remaining_y = np.asarray(remaining_y, dtype=np.float32)\n",
    "# valid_x = remaining_x[0:int(len(remaining_x)*0.5)]\n",
    "# valid_x = np.asarray(valid_x, dtype=np.float32)\n",
    "# valid_y = remaining_y[0:int(len(remaining_y)*0.5)]\n",
    "# valid_y = np.asarray(valid_y, dtype=np.float32)\n",
    "# test_x = remaining_x[int(len(remaining_x)*0.5):]\n",
    "# text_x = np.asarray(test_x, dtype=np.float32)\n",
    "# test_y = remaining_y[int(len(remaining_y)*0.5):]\n",
    "# test_y = np.asarray(test_y, dtype=np.float32)\n",
    "\n",
    "\n",
    "\n",
    "train_percent = .8\n",
    "print(int(len(features_pos)*train_percent))\n",
    "train_x = np.concatenate((features_pos[0:int(len(features_pos)*train_percent)], features_neg[0:int(len(features_neg)*train_percent)]))\n",
    "train_x = np.asarray(train_x, dtype=np.float32)\n",
    "train_y = labels_pos[0:int(len(labels_pos)*train_percent)] + labels_neg[0:int(len(labels_neg)*train_percent)]\n",
    "train_y = np.asarray(train_y, dtype=np.float32)\n",
    "\n",
    "features_pos = features_pos[int(len(features_pos)*train_percent):]\n",
    "features_neg = features_neg[int(len(features_neg)*train_percent):]\n",
    "labels_pos = labels_pos[int(len(labels_pos)*train_percent):]\n",
    "labels_neg = labels_neg[int(len(labels_neg)*train_percent):]\n",
    "\n",
    "valid_x = np.concatenate((features_pos[0:int(len(features_pos)*.5)], features_neg[0:int(len(features_neg)*.5)]))\n",
    "valid_x = np.asarray(valid_x, dtype=np.float32)\n",
    "valid_y = labels_pos[0:int(len(labels_pos)*.5)] + labels_neg[0:int(len(labels_neg)*.5)]\n",
    "valid_y = np.asarray(valid_y, dtype=np.float32)\n",
    "\n",
    "features_pos = features_pos[int(len(features_pos)*.5):]\n",
    "features_neg = features_neg[int(len(features_neg)*.5):]\n",
    "labels_pos = labels_pos[int(len(labels_pos)*.5):]\n",
    "labels_neg = labels_neg[int(len(labels_neg)*.5):]\n",
    "\n",
    "test_x = np.concatenate((features_pos, features_neg))\n",
    "test_x = np.asarray(test_x, dtype=np.float32)\n",
    "test_y = labels_pos + labels_neg\n",
    "test_y = np.asarray(test_y, dtype=np.float32)\n"
   ]
  },
  {
   "cell_type": "code",
   "execution_count": 31,
   "metadata": {},
   "outputs": [
    {
     "data": {
      "text/plain": [
       "40000"
      ]
     },
     "execution_count": 31,
     "metadata": {},
     "output_type": "execute_result"
    }
   ],
   "source": [
    "len(train_x)"
   ]
  },
  {
   "cell_type": "markdown",
   "metadata": {},
   "source": [
    "Dataloaders and Batching"
   ]
  },
  {
   "cell_type": "code",
   "execution_count": 32,
   "metadata": {},
   "outputs": [],
   "source": [
    "# create Tensor datasets\n",
    "train_data = TensorDataset(torch.from_numpy(train_x), torch.from_numpy(train_y))\n",
    "valid_data = TensorDataset(torch.from_numpy(valid_x), torch.from_numpy(valid_y))\n",
    "test_data = TensorDataset(torch.from_numpy(test_x), torch.from_numpy(test_y))\n",
    "# dataloaders\n",
    "batch_size = 50\n",
    "# make sure to SHUFFLE your data\n",
    "train_loader = DataLoader(train_data, shuffle=True, batch_size=batch_size)\n",
    "valid_loader = DataLoader(valid_data, shuffle=True, batch_size=batch_size)\n",
    "test_loader = DataLoader(test_data, shuffle=True, batch_size=batch_size)"
   ]
  },
  {
   "cell_type": "markdown",
   "metadata": {},
   "source": [
    "In order to obtain one batch of training data for visualization purpose we will create a data iterator"
   ]
  },
  {
   "cell_type": "code",
   "execution_count": 33,
   "metadata": {},
   "outputs": [
    {
     "name": "stdout",
     "output_type": "stream",
     "text": [
      "Sample input size:  torch.Size([50, 200])\n",
      "Sample input: \n",
      " tensor([[     0.,      0.,      0.,  ...,  14377.,   5119., 103415.],\n",
      "        [     0.,      0.,      0.,  ...,   8809., 122305.,  42399.],\n",
      "        [     0.,      0.,      0.,  ..., 158655., 138367., 140240.],\n",
      "        ...,\n",
      "        [     0.,      0.,      0.,  ...,  27486., 124445.,  51023.],\n",
      "        [156864., 136578., 151296.,  ..., 165754.,   2316., 121337.],\n",
      "        [     0.,      0.,      0.,  ..., 125230.,  34407., 124445.]])\n",
      "\n",
      "Sample label size:  torch.Size([50])\n",
      "Sample label: \n",
      " tensor([1., 0., 1., 0., 0., 1., 0., 1., 0., 1., 0., 0., 0., 1., 0., 0., 0., 0.,\n",
      "        0., 1., 1., 1., 0., 1., 0., 0., 1., 1., 1., 1., 0., 0., 0., 0., 0., 1.,\n",
      "        1., 0., 1., 1., 1., 0., 1., 1., 0., 0., 1., 1., 0., 0.])\n"
     ]
    }
   ],
   "source": [
    "# obtain one batch of training data\n",
    "dataiter = iter(train_loader)\n",
    "sample_x, sample_y = dataiter.next()\n",
    "print('Sample input size: ', sample_x.size()) # batch_size, seq_length\n",
    "print('Sample input: \\n', sample_x)\n",
    "print()\n",
    "print('Sample label size: ', sample_y.size()) # batch_size\n",
    "print('Sample label: \\n', sample_y)"
   ]
  },
  {
   "cell_type": "markdown",
   "metadata": {},
   "source": [
    "Batch Size = 50;\n",
    "Sequence Length = 200;"
   ]
  },
  {
   "cell_type": "markdown",
   "metadata": {},
   "source": [
    "Define the LSTM Network Architecture"
   ]
  },
  {
   "cell_type": "markdown",
   "metadata": {},
   "source": [
    "![alt text](files/network_arch.png \"Title\")"
   ]
  },
  {
   "cell_type": "markdown",
   "metadata": {},
   "source": [
    "Define Model Class"
   ]
  },
  {
   "cell_type": "code",
   "execution_count": 70,
   "metadata": {},
   "outputs": [],
   "source": [
    "class SentimentLSTM(nn.Module):\n",
    "    \"\"\"\n",
    "    The RNN model that will be used to perform Sentiment analysis.\n",
    "    \"\"\"\n",
    "\n",
    "    def __init__(self, vocab_size, output_size, embedding_dim, hidden_dim, n_layers, drop_prob=0.3):\n",
    "        \"\"\"\n",
    "        Initialize the model by setting up the layers.\n",
    "        \"\"\"\n",
    "        super().__init__()\n",
    "\n",
    "        self.output_size = output_size\n",
    "        self.n_layers = n_layers\n",
    "        self.hidden_dim = hidden_dim\n",
    "        \n",
    "        # embedding and LSTM layers\n",
    "        self.embedding = nn.Embedding(vocab_size, embedding_dim)\n",
    "        self.lstm = nn.LSTM(embedding_dim, hidden_dim, n_layers, \n",
    "                            dropout=drop_prob, batch_first=True)\n",
    "        # dropout layer\n",
    "        self.dropout = nn.Dropout(0.3)\n",
    "#         self.dropout = nn.Dropout(0.5)\n",
    "        \n",
    "        # linear and sigmoid layers\n",
    "        self.fc = nn.Linear(hidden_dim, output_size)\n",
    "        self.sig = nn.Sigmoid()\n",
    "        \n",
    "\n",
    "    def forward(self, x, hidden):\n",
    "        \"\"\"\n",
    "        Perform a forward pass of our model on some input and hidden state.\n",
    "        \"\"\"\n",
    "        batch_size = x.size(0)\n",
    "\n",
    "        # embeddings and lstm_out\n",
    "        embeds = self.embedding(x)\n",
    "        lstm_out, hidden = self.lstm(embeds, hidden)\n",
    "    \n",
    "        # stack up lstm outputs\n",
    "        lstm_out = lstm_out.contiguous().view(-1, self.hidden_dim)\n",
    "        \n",
    "        # dropout and fully-connected layer\n",
    "        out = self.dropout(lstm_out)\n",
    "        out = self.fc(out)\n",
    "        # sigmoid function\n",
    "        sig_out = self.sig(out)\n",
    "        \n",
    "        # reshape to be batch_size first\n",
    "        sig_out = sig_out.view(batch_size, -1)\n",
    "        sig_out = sig_out[:, -1] # get last batch of labels\n",
    "        \n",
    "        # return last sigmoid output and hidden state\n",
    "        return sig_out, hidden\n",
    "    \n",
    "    \n",
    "    def init_hidden(self, batch_size):\n",
    "        ''' Initializes hidden state '''\n",
    "        # Create two new tensors with sizes n_layers x batch_size x hidden_dim,\n",
    "        # initialized to zero, for hidden state and cell state of LSTM\n",
    "        weight = next(self.parameters()).data\n",
    "        \n",
    "        if (train_on_gpu):\n",
    "            hidden = (weight.new(self.n_layers, batch_size, self.hidden_dim).zero_().cuda(),\n",
    "                  weight.new(self.n_layers, batch_size, self.hidden_dim).zero_().cuda())\n",
    "        else:\n",
    "            hidden = (weight.new(self.n_layers, batch_size, self.hidden_dim).zero_(),\n",
    "                      weight.new(self.n_layers, batch_size, self.hidden_dim).zero_())\n",
    "        \n",
    "        return hidden\n",
    "        "
   ]
  },
  {
   "cell_type": "markdown",
   "metadata": {},
   "source": [
    "Training the Network"
   ]
  },
  {
   "cell_type": "code",
   "execution_count": 71,
   "metadata": {},
   "outputs": [
    {
     "name": "stdout",
     "output_type": "stream",
     "text": [
      "SentimentLSTM(\n",
      "  (embedding): Embedding(182669, 300)\n",
      "  (lstm): LSTM(300, 256, num_layers=10, batch_first=True, dropout=0.3)\n",
      "  (dropout): Dropout(p=0.3)\n",
      "  (fc): Linear(in_features=256, out_features=1, bias=True)\n",
      "  (sig): Sigmoid()\n",
      ")\n"
     ]
    }
   ],
   "source": [
    "# Instantiate the model w/ hyperparams\n",
    "# vocab_size = len(vocab_to_int)+1 # +1 for the 0 padding\n",
    "vocab_size = len(vocab)+1\n",
    "output_size = 1\n",
    "embedding_dim = 300\n",
    "# embedding_dim = 100\n",
    "hidden_dim = 256\n",
    "n_layers = 10\n",
    "net = SentimentLSTM(vocab_size, output_size, embedding_dim, hidden_dim, n_layers)\n",
    "#UPDATING PYTORCH EMBEDDINGS\n",
    "net.embedding.weight.data = torch.Tensor(weights)\n",
    "print(net)"
   ]
  },
  {
   "cell_type": "code",
   "execution_count": null,
   "metadata": {},
   "outputs": [
    {
     "name": "stdout",
     "output_type": "stream",
     "text": [
      "Epoch: 3/20... Step: 2400... Loss: 0.693986... Val Loss: 0.693751\n"
     ]
    },
    {
     "data": {
      "image/png": "[encoded data removed]",
      "text/plain": [
       "<Figure size 432x288 with 1 Axes>"
      ]
     },
     "metadata": {
      "needs_background": "light"
     },
     "output_type": "display_data"
    }
   ],
   "source": [
    "# loss and optimization functions\n",
    "lr=0.001\n",
    "\n",
    "criterion = nn.BCELoss()\n",
    "optimizer = torch.optim.Adam(net.parameters(), lr=lr)\n",
    "\n",
    "\n",
    "# training params\n",
    "\n",
    "epochs = 20 # 3-4 is approx where I noticed the validation loss stop decreasing\n",
    "\n",
    "counter = 0\n",
    "print_every = 100\n",
    "clip=5 # gradient clipping\n",
    "train_on_gpu = True\n",
    "# move model to GPU, if available\n",
    "if(train_on_gpu):\n",
    "    net.cuda()\n",
    "\n",
    "net.train()\n",
    "\n",
    "t_loss = []\n",
    "v_loss = []\n",
    "plt.figure()\n",
    "#define plot function\n",
    "def plot_function():\n",
    "    t_loss.append(loss.item())\n",
    "    v_loss.append(np.mean(val_losses))\n",
    "    plt.plot(t_loss, label=\"Train\")\n",
    "    plt.plot(v_loss, label=\"Valid\")\n",
    "    plt.title('train vs validation loss')\n",
    "    plt.legend(['train', 'validation'], loc='upper right')\n",
    "    plt.ylabel('loss')\n",
    "    plt.xlabel('step')\n",
    "    plt.show()\n",
    "    clear_output(wait=True)\n",
    "# train for some number of epochs\n",
    "for e in range(epochs):\n",
    "    # initialize hidden state\n",
    "    h = net.init_hidden(batch_size)\n",
    "\n",
    "    # batch loop\n",
    "    for inputs, labels in train_loader:\n",
    "        counter += 1\n",
    "\n",
    "        if(train_on_gpu):\n",
    "            inputs, labels = inputs.cuda(), labels.cuda()\n",
    "\n",
    "        # Creating new variables for the hidden state, otherwise\n",
    "        # we'd backprop through the entire training history\n",
    "        h = tuple([each.data for each in h])\n",
    "\n",
    "        # zero accumulated gradients\n",
    "        net.zero_grad()\n",
    "\n",
    "        # get the output from the model\n",
    "        inputs = inputs.type(torch.LongTensor)\n",
    "        inputs = inputs.cuda()\n",
    "        output, h = net(inputs, h)\n",
    "\n",
    "        # calculate the loss and perform backprop\n",
    "        loss = criterion(output.squeeze(), labels.float())\n",
    "        loss.backward()\n",
    "        # `clip_grad_norm` helps prevent the exploding gradient problem in RNNs / LSTMs.\n",
    "        nn.utils.clip_grad_norm_(net.parameters(), clip)\n",
    "        optimizer.step()\n",
    "\n",
    "        # loss stats\n",
    "        if counter % print_every == 0:\n",
    "            # Get validation loss\n",
    "            val_h = net.init_hidden(batch_size)\n",
    "            val_losses = []\n",
    "            net.eval()\n",
    "            for inputs, labels in valid_loader:\n",
    "\n",
    "                # Creating new variables for the hidden state, otherwise\n",
    "                # we'd backprop through the entire training history\n",
    "                val_h = tuple([each.data for each in val_h])\n",
    "\n",
    "                if(train_on_gpu):\n",
    "                    inputs, labels = inputs.cuda(), labels.cuda()\n",
    "\n",
    "                inputs = inputs.type(torch.LongTensor)\n",
    "                inputs = inputs.cuda()\n",
    "                output, val_h = net(inputs, val_h)\n",
    "                val_loss = criterion(output.squeeze(), labels.float())\n",
    "\n",
    "                val_losses.append(val_loss.item())\n",
    "\n",
    "            net.train()\n",
    "            print(\"Epoch: {}/{}...\".format(e+1, epochs),\n",
    "                  \"Step: {}...\".format(counter),\n",
    "                  \"Loss: {:.6f}...\".format(loss.item()),\n",
    "                  \"Val Loss: {:.6f}\".format(np.mean(val_losses)))\n",
    "            \"\"\"\n",
    "                PLOT EPOCHS IN GRAPH\n",
    "            \"\"\"\n",
    "            plot_function()"
   ]
  },
  {
   "cell_type": "markdown",
   "metadata": {},
   "source": [
    "Testing"
   ]
  },
  {
   "cell_type": "code",
   "execution_count": 37,
   "metadata": {},
   "outputs": [
    {
     "name": "stdout",
     "output_type": "stream",
     "text": [
      "Test loss: 0.438\n",
      "Test accuracy: 0.831\n"
     ]
    }
   ],
   "source": [
    "# Get test data loss and accuracy\n",
    "\n",
    "test_losses = [] # track loss\n",
    "num_correct = 0\n",
    "\n",
    "# init hidden state\n",
    "h = net.init_hidden(batch_size)\n",
    "\n",
    "net.eval()\n",
    "# iterate over test data\n",
    "for inputs, labels in test_loader:\n",
    "\n",
    "    # Creating new variables for the hidden state, otherwise\n",
    "    # we'd backprop through the entire training history\n",
    "    h = tuple([each.data for each in h])\n",
    "\n",
    "    if(train_on_gpu):\n",
    "        inputs, labels = inputs.cuda(), labels.cuda()\n",
    "    \n",
    "    # get predicted outputs\n",
    "    inputs = inputs.type(torch.LongTensor)\n",
    "    inputs = inputs.cuda()\n",
    "    output, h = net(inputs, h)\n",
    "    \n",
    "    # calculate loss\n",
    "    test_loss = criterion(output.squeeze(), labels.float())\n",
    "    test_losses.append(test_loss.item())\n",
    "    \n",
    "    # convert output probabilities to predicted class (0 or 1)\n",
    "    pred = torch.round(output.squeeze())  # rounds to the nearest integer\n",
    "    \n",
    "    # compare predictions to true label\n",
    "    correct_tensor = pred.eq(labels.float().view_as(pred))\n",
    "    correct = np.squeeze(correct_tensor.numpy()) if not train_on_gpu else np.squeeze(correct_tensor.cpu().numpy())\n",
    "    num_correct += np.sum(correct)\n",
    "\n",
    "\n",
    "# -- stats! -- ##\n",
    "# avg test loss\n",
    "print(\"Test loss: {:.3f}\".format(np.mean(test_losses)))\n",
    "\n",
    "# accuracy over all test data\n",
    "test_acc = num_correct/len(test_loader.dataset)\n",
    "print(\"Test accuracy: {:.3f}\".format(test_acc))"
   ]
  },
  {
   "cell_type": "markdown",
   "metadata": {},
   "source": [
    "User Generated Data"
   ]
  },
  {
   "cell_type": "code",
   "execution_count": null,
   "metadata": {},
   "outputs": [],
   "source": [
    "from string import punctuation\n",
    "\n",
    "def tokenize_review(test_review):\n",
    "    test_review = test_review.lower() # lowercase\n",
    "    # get rid of punctuation\n",
    "    test_text = ''.join([c for c in test_review if c not in punctuation])\n",
    "\n",
    "    # splitting by spaces\n",
    "    test_words = test_text.split()\n",
    "\n",
    "    # tokens\n",
    "    test_ints = []\n",
    "    test_ints.append([word2id[word] for word in test_words])\n",
    "\n",
    "    return test_ints\n",
    "\n",
    "\n",
    "test_review_neg = \"Awful movie. Never will I ever recommend it to anyone.\"\n",
    "\n",
    "# test code and generate tokenized review\n",
    "test_ints = tokenize_review(test_review_neg)\n",
    "print(test_ints)\n",
    "\n",
    "\n",
    "# test sequence padding\n",
    "seq_length=200\n",
    "features = pad_features(test_ints, seq_length)\n",
    "\n",
    "print(features)\n",
    "\n",
    "\n",
    "# test conversion to tensor and pass into your model\n",
    "feature_tensor = torch.from_numpy(features)\n",
    "print(feature_tensor.size())\n",
    "\n",
    "\n",
    "def predict(net, test_review, sequence_length=200):\n",
    "    \n",
    "    net.eval()\n",
    "    \n",
    "    # tokenize review\n",
    "    test_ints = tokenize_review(test_review)\n",
    "    \n",
    "    # pad tokenized sequence\n",
    "    seq_length=sequence_length\n",
    "    features = pad_features(test_ints, seq_length)\n",
    "    \n",
    "    # convert to tensor to pass into your model\n",
    "    feature_tensor = torch.from_numpy(features)\n",
    "    \n",
    "    batch_size = feature_tensor.size(0)\n",
    "    \n",
    "    # initialize hidden state\n",
    "    h = net.init_hidden(batch_size)\n",
    "    \n",
    "    if(train_on_gpu):\n",
    "        feature_tensor = feature_tensor.cuda()\n",
    "    \n",
    "    # get the output from the model\n",
    "    output, h = net(feature_tensor, h)\n",
    "    \n",
    "    # convert output probabilities to predicted class (0 or 1)\n",
    "    pred = torch.round(output.squeeze()) \n",
    "    # printing output value, before rounding\n",
    "    print('Prediction value, pre-rounding: {:.6f}'.format(output.item()))\n",
    "    \n",
    "    # print custom response\n",
    "    if(pred.item()==1):\n",
    "        print(\"Positive review detected!\")\n",
    "    else:\n",
    "        print(\"Negative review detected.\")"
   ]
  },
  {
   "cell_type": "code",
   "execution_count": null,
   "metadata": {},
   "outputs": [],
   "source": [
    "test_review = 'This movie had the best acting and the dialogue was so good. I loved it. Great movie'\n",
    "seq_length=200 # good to use the length that was trained on\n",
    "predict(net, test_review_neg, seq_length)\n",
    "predict(net, test_review, seq_length)"
   ]
  }
 ],
 "metadata": {
  "kernelspec": {
   "display_name": "Python 3",
   "language": "python",
   "name": "python3"
  },
  "language_info": {
   "codemirror_mode": {
    "name": "ipython",
    "version": 3
   },
   "file_extension": ".py",
   "mimetype": "text/x-python",
   "name": "python",
   "nbconvert_exporter": "python",
   "pygments_lexer": "ipython3",
   "version": "3.7.1"
  }
 },
 "nbformat": 4,
 "nbformat_minor": 2
}
